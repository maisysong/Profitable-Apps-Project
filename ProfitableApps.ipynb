{
 "cells": [
  {
   "cell_type": "markdown",
   "metadata": {},
   "source": [
    "# Data Analysis for Profitable App Profiles for the Apple Store and Google Play Markets\n",
    "\n",
    "Our objective is to look into the Apple Store and Google Play Markets to analyze which type of apps attract more users for our company that builds Android and iOS mobile apps. The main source of revenue is in-app ads which in directly influenced by the number of users of the app, therefore the market research of which type of apps attract more users is highly necessary. \n",
    "\n",
    "The main goal of this Data Analysis project is to analyze and investigate the current market of mobile apps to provide a potential solution to effectively increase revenue on in-app ads in the mobil app."
   ]
  },
  {
   "cell_type": "markdown",
   "metadata": {},
   "source": [
    "### 1. Opening and Exploring Data\n",
    "\n",
    "As of September 2018, there were approximately 2M iOS apps available on the App Store and 2.1M Android apps on Google Play. \n",
    "\n",
    "We will use only a small sample of the large data."
   ]
  },
  {
   "cell_type": "code",
   "execution_count": 1,
   "metadata": {},
   "outputs": [],
   "source": [
    "import csv\n",
    "\n",
    "file = open('AppleStore.csv')\n",
    "app_data = list(csv.reader(file))\n",
    "\n",
    "file = open('googleplaystore.csv')\n",
    "google_data = list(csv.reader(file))"
   ]
  },
  {
   "cell_type": "code",
   "execution_count": 2,
   "metadata": {},
   "outputs": [],
   "source": [
    "def explore_data(dataset, start, end, printdata, rows_and_columns):\n",
    "    dataset_slice = dataset[start:end]  \n",
    "    if printdata:\n",
    "        for row in dataset_slice:\n",
    "            print(row)\n",
    "            print('\\n') # adds a new (empty) line after each row\n",
    "\n",
    "    if rows_and_columns:\n",
    "        print('Number of rows:', len(dataset))\n",
    "        print('Number of columns:', len(dataset[0]))"
   ]
  },
  {
   "cell_type": "code",
   "execution_count": 3,
   "metadata": {},
   "outputs": [
    {
     "name": "stdout",
     "output_type": "stream",
     "text": [
      "['id', 'track_name', 'size_bytes', 'currency', 'price', 'rating_count_tot', 'rating_count_ver', 'user_rating', 'user_rating_ver', 'ver', 'cont_rating', 'prime_genre', 'sup_devices.num', 'ipadSc_urls.num', 'lang.num', 'vpp_lic']\n",
      "\n",
      "\n",
      "['284882215', 'Facebook', '389879808', 'USD', '0.0', '2974676', '212', '3.5', '3.5', '95.0', '4+', 'Social Networking', '37', '1', '29', '1']\n",
      "\n",
      "\n",
      "['389801252', 'Instagram', '113954816', 'USD', '0.0', '2161558', '1289', '4.5', '4.0', '10.23', '12+', 'Photo & Video', '37', '0', '29', '1']\n",
      "\n",
      "\n"
     ]
    }
   ],
   "source": [
    "# explore the apple store data\n",
    "explore_data(app_data, 0, 3, printdata=True, rows_and_columns=False)"
   ]
  },
  {
   "cell_type": "code",
   "execution_count": 4,
   "metadata": {},
   "outputs": [
    {
     "name": "stdout",
     "output_type": "stream",
     "text": [
      "App Store Data:\n",
      "Number of rows: 7198\n",
      "Number of columns: 16\n"
     ]
    }
   ],
   "source": [
    "print(\"App Store Data:\")\n",
    "explore_data(app_data, 0, len(app_data), \n",
    "             printdata=False, rows_and_columns=True)"
   ]
  },
  {
   "cell_type": "code",
   "execution_count": 5,
   "metadata": {},
   "outputs": [
    {
     "name": "stdout",
     "output_type": "stream",
     "text": [
      "['App', 'Category', 'Rating', 'Reviews', 'Size', 'Installs', 'Type', 'Price', 'Content Rating', 'Genres', 'Last Updated', 'Current Ver', 'Android Ver']\n",
      "\n",
      "\n",
      "['Photo Editor & Candy Camera & Grid & ScrapBook', 'ART_AND_DESIGN', '4.1', '159', '19M', '10,000+', 'Free', '0', 'Everyone', 'Art & Design', 'January 7, 2018', '1.0.0', '4.0.3 and up']\n",
      "\n",
      "\n",
      "['Coloring book moana', 'ART_AND_DESIGN', '3.9', '967', '14M', '500,000+', 'Free', '0', 'Everyone', 'Art & Design;Pretend Play', 'January 15, 2018', '2.0.0', '4.0.3 and up']\n",
      "\n",
      "\n"
     ]
    }
   ],
   "source": [
    "# explore the apple store data\n",
    "explore_data(google_data, 0, 3, printdata=True, rows_and_columns=False)"
   ]
  },
  {
   "cell_type": "code",
   "execution_count": 6,
   "metadata": {},
   "outputs": [
    {
     "name": "stdout",
     "output_type": "stream",
     "text": [
      "Google Data:\n",
      "Number of rows: 10842\n",
      "Number of columns: 13\n"
     ]
    }
   ],
   "source": [
    "print(\"Google Data:\")\n",
    "explore_data(google_data, 0, len(google_data), \n",
    "             printdata=False, rows_and_columns=True)"
   ]
  },
  {
   "cell_type": "code",
   "execution_count": 7,
   "metadata": {},
   "outputs": [
    {
     "name": "stdout",
     "output_type": "stream",
     "text": [
      "App Store Data features: \n",
      " ['id', 'track_name', 'size_bytes', 'currency', 'price', 'rating_count_tot', 'rating_count_ver', 'user_rating', 'user_rating_ver', 'ver', 'cont_rating', 'prime_genre', 'sup_devices.num', 'ipadSc_urls.num', 'lang.num', 'vpp_lic'] \n",
      " \n",
      " Google Play Data features: \n",
      " ['App', 'Category', 'Rating', 'Reviews', 'Size', 'Installs', 'Type', 'Price', 'Content Rating', 'Genres', 'Last Updated', 'Current Ver', 'Android Ver']\n"
     ]
    }
   ],
   "source": [
    "app_col = app_data[0]\n",
    "google_col = google_data[0]\n",
    "\n",
    "print(f\"App Store Data features: \\n {app_col}\", '\\n \\n', \n",
    "      f\"Google Play Data features: \\n {google_col}\")"
   ]
  },
  {
   "cell_type": "markdown",
   "metadata": {},
   "source": [
    "**Google Play Store Apps Data (`'googleplaystore.csv'`) features:**\n",
    "\n",
    "    *Dataset and information from Kaggle.com \"Google Play Store Apps\"*\n",
    "\n",
    "'App': Application Name\n",
    "\n",
    "'Category': Category the app belongs to\n",
    "\n",
    "'Rating': Overall user rating of the app (at the time of data scraping)\n",
    "\n",
    "'Reviews': Number of user reviews for the app (as when scraped)\n",
    "\n",
    "'Size': Size of the app (as when scraped)\n",
    "\n",
    "'Installs': Number of user downloads/installs for the app (as when scraped)\n",
    "\n",
    "'Type': Paid/Free\n",
    "\n",
    "'Price': Price of app (as when scraped)\n",
    "\n",
    "'Content Rating': Age group the app is targeted at - Children / Mature 21+ / Adult\n",
    "\n",
    "'Genres': An app can belong to multiple genres (apart from its main category). For eg, a musical family game will belong to Music, Game, Family genres.\n",
    "\n",
    "'Last Updated': Date when the app was last updated on Play Store (as when scraped)\n",
    "\n",
    "'Current Ver': Current version of the app available on Play Store (as when scraped)\n",
    "\n",
    "'Android Ver': Min required Android version (as when scraped)"
   ]
  },
  {
   "cell_type": "markdown",
   "metadata": {},
   "source": [
    "**App Store Apps Data (`'AppleStore.csv'`) features:**\n",
    "\n",
    "    *Dataset and information from Kaggle.com \"Mobile App Store (7200 apps)*\n",
    "    \n",
    "\"id\" : App ID\n",
    "\n",
    "\"track_name\": App Name\n",
    "\n",
    "\"size_bytes\": Size (in Bytes)\n",
    "\n",
    "\"currency\": Currency Type\n",
    "\n",
    "\"price\": Price amount\n",
    "\n",
    "\"rating_count_tot\": User Rating counts (for all version)\n",
    "\n",
    "\"rating_count_ver\": User Rating counts (for current version)\n",
    "\n",
    "\"user_rating\" : Average User Rating value (for all version)\n",
    "\n",
    "\"user_rating_ver\": Average User Rating value (for current version)\n",
    "\n",
    "\"ver\" : Latest version code\n",
    "\n",
    "\"cont_rating\": Content Rating\n",
    "\n",
    "\"prime_genre\": Primary Genre\n",
    "\n",
    "\"sup_devices.num\": Number of supporting devices\n",
    "\n",
    "\"ipadSc_urls.num\": Number of screenshots showed for display\n",
    "\n",
    "\"lang.num\": Number of supported languages\n",
    "\n",
    "\"vpp_lic\": Vpp Device Based Licensing Enabled"
   ]
  },
  {
   "cell_type": "markdown",
   "metadata": {},
   "source": [
    "### 2. Cleaning Data\n",
    "\n",
    "- we only want apps that are free to download\n",
    "- our audience is English-speaking audience"
   ]
  },
  {
   "cell_type": "markdown",
   "metadata": {},
   "source": [
    "**Checking and cleaning google_data:**"
   ]
  },
  {
   "cell_type": "code",
   "execution_count": 8,
   "metadata": {},
   "outputs": [
    {
     "name": "stdout",
     "output_type": "stream",
     "text": [
      "App :\n",
      "10471: Jazz Wi-Fi\n",
      "10472: Xposed Wi-Fi-Pwd\n",
      "10473: Life Made WI-Fi Touchscreen Photo Frame\n",
      "10474: osmino Wi-Fi: free WiFi\n",
      "\n",
      "\n",
      "Category :\n",
      "10471: COMMUNICATION\n",
      "10472: PERSONALIZATION\n",
      "10473: 1.9\n",
      "10474: TOOLS\n",
      "\n",
      "\n",
      "Rating :\n",
      "10471: 3.4\n",
      "10472: 3.5\n",
      "10473: 19\n",
      "10474: 4.2\n",
      "\n",
      "\n",
      "Reviews :\n",
      "10471: 49\n",
      "10472: 1042\n",
      "10473: 3.0M\n",
      "10474: 134203\n",
      "\n",
      "\n",
      "Size :\n",
      "10471: 4.0M\n",
      "10472: 404k\n",
      "10473: 1,000+\n",
      "10474: 4.1M\n",
      "\n",
      "\n",
      "Installs :\n",
      "10471: 10,000+\n",
      "10472: 100,000+\n",
      "10473: Free\n",
      "10474: 10,000,000+\n",
      "\n",
      "\n",
      "Type :\n",
      "10471: Free\n",
      "10472: Free\n",
      "10473: 0\n",
      "10474: Free\n",
      "\n",
      "\n",
      "Price :\n",
      "10471: 0\n",
      "10472: 0\n",
      "10473: Everyone\n",
      "10474: 0\n",
      "\n",
      "\n",
      "Content Rating :\n",
      "10471: Everyone\n",
      "10472: Everyone\n",
      "10473: \n",
      "10474: Everyone\n",
      "\n",
      "\n",
      "Genres :\n",
      "10471: Communication\n",
      "10472: Personalization\n",
      "10473: February 11, 2018\n",
      "10474: Tools\n",
      "\n",
      "\n",
      "Last Updated :\n",
      "10471: February 10, 2017\n",
      "10472: August 5, 2014\n",
      "10473: 1.0.19\n",
      "10474: August 7, 2018\n",
      "\n",
      "\n",
      "Current Ver :\n",
      "10471: 0.1\n",
      "10472: 3.0.0\n",
      "10473: 4.0 and up\n",
      "10474: 6.06.14\n",
      "\n",
      "\n",
      "Android Ver :\n",
      "10471: 2.3 and up\n",
      "10472: 4.0.3 and up\n"
     ]
    },
    {
     "ename": "IndexError",
     "evalue": "list index out of range",
     "output_type": "error",
     "traceback": [
      "\u001b[0;31m---------------------------------------------------------------------------\u001b[0m",
      "\u001b[0;31mIndexError\u001b[0m                                Traceback (most recent call last)",
      "\u001b[0;32m<ipython-input-8-777bbc99abd6>\u001b[0m in \u001b[0;36m<module>\u001b[0;34m\u001b[0m\n\u001b[1;32m      3\u001b[0m     \u001b[0mprint\u001b[0m\u001b[0;34m(\u001b[0m\u001b[0mgoogle_data\u001b[0m\u001b[0;34m[\u001b[0m\u001b[0;36m0\u001b[0m\u001b[0;34m]\u001b[0m\u001b[0;34m[\u001b[0m\u001b[0mj\u001b[0m\u001b[0;34m]\u001b[0m\u001b[0;34m,\u001b[0m \u001b[0;34m\":\"\u001b[0m\u001b[0;34m)\u001b[0m\u001b[0;34m\u001b[0m\u001b[0;34m\u001b[0m\u001b[0m\n\u001b[1;32m      4\u001b[0m     \u001b[0;32mfor\u001b[0m \u001b[0mi\u001b[0m \u001b[0;32min\u001b[0m \u001b[0mrange\u001b[0m\u001b[0;34m(\u001b[0m\u001b[0;36m10471\u001b[0m\u001b[0;34m,\u001b[0m \u001b[0;36m10475\u001b[0m\u001b[0;34m)\u001b[0m\u001b[0;34m:\u001b[0m\u001b[0;34m\u001b[0m\u001b[0;34m\u001b[0m\u001b[0m\n\u001b[0;32m----> 5\u001b[0;31m         \u001b[0mprint\u001b[0m\u001b[0;34m(\u001b[0m\u001b[0;34mf\"{i}:\"\u001b[0m\u001b[0;34m,\u001b[0m \u001b[0mgoogle_data\u001b[0m\u001b[0;34m[\u001b[0m\u001b[0mi\u001b[0m\u001b[0;34m]\u001b[0m\u001b[0;34m[\u001b[0m\u001b[0mj\u001b[0m\u001b[0;34m]\u001b[0m\u001b[0;34m)\u001b[0m\u001b[0;34m\u001b[0m\u001b[0;34m\u001b[0m\u001b[0m\n\u001b[0m\u001b[1;32m      6\u001b[0m     \u001b[0mprint\u001b[0m\u001b[0;34m(\u001b[0m\u001b[0;34m'\\n'\u001b[0m\u001b[0;34m)\u001b[0m\u001b[0;34m\u001b[0m\u001b[0;34m\u001b[0m\u001b[0m\n",
      "\u001b[0;31mIndexError\u001b[0m: list index out of range"
     ]
    }
   ],
   "source": [
    "# wrong data @i = 10472 for google_data\n",
    "for j in range(len(google_data[0])):\n",
    "    print(google_data[0][j], \":\")\n",
    "    for i in range(10471, 10475):\n",
    "        print(f\"{i}:\", google_data[i][j])\n",
    "    print('\\n')"
   ]
  },
  {
   "cell_type": "code",
   "execution_count": 9,
   "metadata": {},
   "outputs": [
    {
     "name": "stdout",
     "output_type": "stream",
     "text": [
      "13\n",
      "12\n",
      "13\n"
     ]
    }
   ],
   "source": [
    "print(len(google_data[10472]))\n",
    "print(len(google_data[10473]))\n",
    "print(len(google_data[10474]))"
   ]
  },
  {
   "cell_type": "markdown",
   "metadata": {},
   "source": [
    "Here we notice that @i = 10473, we are missing one value and shifted data. \n",
    "\n",
    "The length of the data @10473 is shorter and we notice that it is missing `Category` section with rest of the data shifted by one. \n",
    "\n",
    "We want to delete this row for an accurate analysis:"
   ]
  },
  {
   "cell_type": "code",
   "execution_count": 10,
   "metadata": {},
   "outputs": [],
   "source": [
    "del google_data[10473] # already ran"
   ]
  },
  {
   "cell_type": "code",
   "execution_count": 11,
   "metadata": {},
   "outputs": [
    {
     "name": "stdout",
     "output_type": "stream",
     "text": [
      "Google Data:\n",
      "Number of rows: 10841\n",
      "Number of columns: 13\n"
     ]
    }
   ],
   "source": [
    "print(\"Google Data:\")\n",
    "explore_data(google_data, 0, len(google_data), \n",
    "             printdata=False, rows_and_columns=True)"
   ]
  },
  {
   "cell_type": "markdown",
   "metadata": {},
   "source": [
    "**Checking and cleaning App_data:**"
   ]
  },
  {
   "cell_type": "code",
   "execution_count": 12,
   "metadata": {},
   "outputs": [
    {
     "name": "stdout",
     "output_type": "stream",
     "text": [
      "[('Mannequin Challenge', 4464), ('VR Roller Coaster', 4832)]\n",
      "[]\n"
     ]
    }
   ],
   "source": [
    "# we will check any duplicates by checking if there are any duplicated App ID since it shuold be unique\n",
    "duplicate = []\n",
    "appname = []\n",
    "\n",
    "for i in range(1, len(app_data)):\n",
    "    row = app_data[i]\n",
    "    if row[1] in appname:\n",
    "        duplicate.append((row[1], i))\n",
    "    else:\n",
    "        appname.append(row[1])\n",
    "print(duplicate)\n",
    "\n",
    "duplicate = []\n",
    "appID = []\n",
    "\n",
    "for i in range(1, len(app_data)):\n",
    "    row = app_data[i]\n",
    "    if row[0] in appID:\n",
    "        duplicate.append((row[0], i))\n",
    "    else:\n",
    "        appID.append(row[0])\n",
    "print(duplicate)"
   ]
  },
  {
   "cell_type": "markdown",
   "metadata": {},
   "source": [
    "With app name, we detected two app names, `\"Mannequin Challenge\"` and `\"VR Roller Coaster\"` that were duplicated within the dataset. \n",
    "\n",
    "However searching through the appID, we see that there are no duplicates so a double check was necessary.\n",
    "\n",
    "Searching through the dataset with a dictionary to find which apps have the same names and seeing if they are in fact an error in the data:"
   ]
  },
  {
   "cell_type": "code",
   "execution_count": 13,
   "metadata": {},
   "outputs": [
    {
     "name": "stdout",
     "output_type": "stream",
     "text": [
      "Mannequin Challenge [2949, 4464]\n",
      "VR Roller Coaster [4443, 4832]\n"
     ]
    }
   ],
   "source": [
    "appnamedict = {}\n",
    "for i in range(1, len(app_data)):\n",
    "    name = app_data[i][1]\n",
    "    if name in appnamedict:\n",
    "        appnamedict[name].append(i)\n",
    "    else:\n",
    "        appnamedict[name] = [i]\n",
    "\n",
    "for name in appnamedict:\n",
    "    if len(appnamedict[name]) > 1:\n",
    "        print(name, appnamedict[name])"
   ]
  },
  {
   "cell_type": "code",
   "execution_count": 14,
   "metadata": {},
   "outputs": [
    {
     "name": "stdout",
     "output_type": "stream",
     "text": [
      "['1173990889', 'Mannequin Challenge', '109705216', 'USD', '0.0', '668', '87', '3.0', '3.0', '1.4', '9+', 'Games', '37', '4', '1', '1'] \n",
      "\n",
      "['1178454060', 'Mannequin Challenge', '59572224', 'USD', '0.0', '105', '58', '4.0', '4.5', '1.0.1', '4+', 'Games', '38', '5', '1', '1'] \n",
      "\n",
      "['952877179', 'VR Roller Coaster', '169523200', 'USD', '0.0', '107', '102', '3.5', '3.5', '2.0.0', '4+', 'Games', '37', '5', '1', '1'] \n",
      "\n",
      "['1089824278', 'VR Roller Coaster', '240964608', 'USD', '0.0', '67', '44', '3.5', '4.0', '0.81', '4+', 'Games', '38', '0', '1', '1'] \n",
      "\n"
     ]
    }
   ],
   "source": [
    "print(app_data[2949], '\\n')\n",
    "print(app_data[4464], '\\n')\n",
    "print(app_data[4443], '\\n')\n",
    "print(app_data[4832], '\\n')"
   ]
  },
  {
   "cell_type": "markdown",
   "metadata": {},
   "source": [
    "The names of the pair of two apps are identical but the rest of the values seem to differ and so we can conclude that these are not an error in the dataset.  "
   ]
  },
  {
   "cell_type": "markdown",
   "metadata": {},
   "source": [
    "**Removing any non-English apps**\n",
    "\n",
    "We can check the characters of the app name with the `ord()` function. \n",
    "\n",
    "There are may be some english alphabets (or characters that have ASCII value less than 127) in non-english apps like, `\"爱奇艺PPS -《欢乐颂2》电视剧热播\"`. There are also the opposite case like emojis or other characters that have a ASCII value greater than 127 in english apps like, `\"▻Sudoku\"`. So we have to make a decision on how to distinguish the non-english apps. \n",
    "\n",
    "We decided to create a function `notEnglish()` that takes a string `name` as an argument. This function iterates through each of the characters in the string, assesses the `ord()` value, or the ASCII, value and essentially calculates the proportion of the non-english alphabets within the entire name. \n",
    "\n",
    "We set the boundary to 0.25, meaning if more than half of the characters in the name is not english, then we will consider it a non-english app."
   ]
  },
  {
   "cell_type": "code",
   "execution_count": 15,
   "metadata": {},
   "outputs": [],
   "source": [
    "def notEnglish(name):\n",
    "    notenglish = False\n",
    "    total = len(name)\n",
    "    count = 0\n",
    "    for character in name:\n",
    "        if ord(character) > 127:\n",
    "            count += 1\n",
    "    if count/total > 0.25:\n",
    "        notenglish = True\n",
    "    return notenglish"
   ]
  },
  {
   "cell_type": "markdown",
   "metadata": {},
   "source": [
    "App Data:"
   ]
  },
  {
   "cell_type": "code",
   "execution_count": 16,
   "metadata": {},
   "outputs": [
    {
     "name": "stdout",
     "output_type": "stream",
     "text": [
      "(i, non English App names):\n",
      "(814, '爱奇艺PPS -《欢乐颂2》电视剧热播')\n",
      "(1194, '聚力视频HD-人民的名义,跨界歌王全网热播')\n",
      "(1428, '优酷视频')\n",
      "(1519, '网易新闻 - 精选好内容，算出你的兴趣')\n",
      "(1596, '淘宝 - 随时随地，想淘就淘')\n",
      "(1604, '搜狐视频HD-欢乐颂2 全网首播')\n",
      "(1649, '阴阳师-全区互通现世集结')\n",
      "(1783, '百度贴吧-全球最大兴趣交友社区')\n",
      "(1895, '百度网盘')\n",
      "(1906, '爱奇艺HD -《欢乐颂2》电视剧热播')\n"
     ]
    }
   ],
   "source": [
    "# app_data:\n",
    "iosname = []\n",
    "count = 0\n",
    "for row in app_data[1:]:\n",
    "    iosname.append(row[1])\n",
    "    \n",
    "nonenglishApp = []\n",
    "for i in range(len(iosname)):\n",
    "    name = iosname[i]\n",
    "#     print(name)\n",
    "    if notEnglish(name):\n",
    "        nonenglishApp.append((i+1, name))\n",
    "\n",
    "print(\"(i, non English App names):\")\n",
    "for i in range(10):\n",
    "    print(nonenglishApp[i])"
   ]
  },
  {
   "cell_type": "code",
   "execution_count": 17,
   "metadata": {},
   "outputs": [
    {
     "data": {
      "text/plain": [
       "6165"
      ]
     },
     "execution_count": 17,
     "metadata": {},
     "output_type": "execute_result"
    }
   ],
   "source": [
    "nonenglishapp_i = []\n",
    "for i in range(len(nonenglishApp)):\n",
    "    nonenglishapp_i.append(nonenglishApp[i][0])\n",
    "\n",
    "app_data2 = []\n",
    "for i in range(len(app_data)):\n",
    "    if i in nonenglishapp_i:\n",
    "        continue\n",
    "    app_data2.append(app_data[i])\n",
    "len(app_data2)"
   ]
  },
  {
   "cell_type": "code",
   "execution_count": 18,
   "metadata": {},
   "outputs": [
    {
     "name": "stdout",
     "output_type": "stream",
     "text": [
      "BATTLE BEARS -1\n",
      "爱奇艺PPS -《欢乐颂2》电视剧热播\n",
      "Filterra – Photo Editor, Effects for Pictures\n",
      "\n",
      "\n",
      "BATTLE BEARS -1\n",
      "Filterra – Photo Editor, Effects for Pictures\n",
      "Live.me – Live Video Chat & Make Friends Nearby\n"
     ]
    }
   ],
   "source": [
    "print(app_data[813][1])\n",
    "print(app_data[814][1])\n",
    "print(app_data[815][1])\n",
    "print(\"\\n\")\n",
    "print(app_data2[813][1])\n",
    "print(app_data2[814][1])\n",
    "print(app_data2[815][1])"
   ]
  },
  {
   "cell_type": "markdown",
   "metadata": {},
   "source": [
    "Google_Data:"
   ]
  },
  {
   "cell_type": "code",
   "execution_count": 19,
   "metadata": {},
   "outputs": [],
   "source": [
    "googlename = []\n",
    "count = 0\n",
    "for row in google_data[1:]:\n",
    "    googlename.append(row[0])\n",
    "    \n",
    "nonenglishG = []\n",
    "for i in range(len(googlename)):\n",
    "    name = googlename[i]\n",
    "#     print(name)\n",
    "    if notEnglish(name):\n",
    "        nonenglishG.append((i+1, name))\n",
    "\n",
    "# print(\"(i, non English App names):\")\n",
    "# for i in range(10):\n",
    "#     print(nonenglishG[i])"
   ]
  },
  {
   "cell_type": "code",
   "execution_count": 20,
   "metadata": {},
   "outputs": [],
   "source": [
    "nonenglishG_i = []\n",
    "for i in range(len(nonenglishG)):\n",
    "    nonenglishG_i.append(nonenglishG[i][0])\n",
    "    \n",
    "google_data2 = []\n",
    "for i in range(len(google_data)):\n",
    "    if i in nonenglishG_i:\n",
    "        continue\n",
    "    google_data2.append(google_data[i])"
   ]
  },
  {
   "cell_type": "code",
   "execution_count": 21,
   "metadata": {},
   "outputs": [
    {
     "name": "stdout",
     "output_type": "stream",
     "text": [
      "English for beginners\n",
      "Flame - درب عقلك يوميا\n",
      "Mermaids\n",
      "\n",
      "\n",
      "English for beginners\n",
      "Mermaids\n",
      "Learn Japanese, Korean, Chinese Offline & Free\n"
     ]
    }
   ],
   "source": [
    "print(google_data[710][0])\n",
    "print(google_data[711][0])\n",
    "print(google_data[712][0])\n",
    "print(\"\\n\")\n",
    "print(google_data2[710][0])\n",
    "print(google_data2[711][0])\n",
    "print(google_data2[712][0])"
   ]
  },
  {
   "cell_type": "code",
   "execution_count": 22,
   "metadata": {},
   "outputs": [
    {
     "name": "stdout",
     "output_type": "stream",
     "text": [
      "Number of nonenglish apps in App_data (deleted data): 1033\n",
      "Number of apps in App_data after deleting nonenglish apps: 6164\n",
      "\n",
      "Number of nonenglish apps in google_data (deleted data): 37\n",
      "Number of apps in google_data after deleting nonenglish apps: 10803\n"
     ]
    }
   ],
   "source": [
    "print(f\"Number of nonenglish apps in App_data (deleted data): {len(app_data) - len(app_data2)}\")\n",
    "print(f\"Number of apps in App_data after deleting nonenglish apps: {len(app_data2) - 1}\")\n",
    "print(f\"\\nNumber of nonenglish apps in google_data (deleted data): {len(google_data) - len(google_data2)}\")\n",
    "print(f\"Number of apps in google_data after deleting nonenglish apps: {len(google_data2) - 1}\")\n"
   ]
  },
  {
   "cell_type": "markdown",
   "metadata": {},
   "source": [
    "**Removing apps that aren't free**"
   ]
  },
  {
   "cell_type": "code",
   "execution_count": 23,
   "metadata": {},
   "outputs": [
    {
     "name": "stdout",
     "output_type": "stream",
     "text": [
      "price\n",
      "0.0\n",
      "0.0\n",
      "0.0\n",
      "0.0\n",
      "0.0\n",
      "0.0\n",
      "0.0\n",
      "0.0\n",
      "0.0\n",
      "0.0\n",
      "0.0\n",
      "1.99\n",
      "0.0\n",
      "0.0\n",
      "0.0\n",
      "0.0\n",
      "0.0\n",
      "0.99\n",
      "6.99\n"
     ]
    }
   ],
   "source": [
    "for i in range(20):\n",
    "    print(app_data2[i][4])"
   ]
  },
  {
   "cell_type": "code",
   "execution_count": 24,
   "metadata": {},
   "outputs": [
    {
     "data": {
      "text/plain": [
       "['Photo Editor & Candy Camera & Grid & ScrapBook',\n",
       " 'ART_AND_DESIGN',\n",
       " '4.1',\n",
       " '159',\n",
       " '19M',\n",
       " '10,000+',\n",
       " 'Free',\n",
       " '0',\n",
       " 'Everyone',\n",
       " 'Art & Design',\n",
       " 'January 7, 2018',\n",
       " '1.0.0',\n",
       " '4.0.3 and up']"
      ]
     },
     "execution_count": 24,
     "metadata": {},
     "output_type": "execute_result"
    }
   ],
   "source": [
    "google_data2[1]"
   ]
  },
  {
   "cell_type": "code",
   "execution_count": 25,
   "metadata": {},
   "outputs": [
    {
     "name": "stdout",
     "output_type": "stream",
     "text": [
      "6165 2961 3204\n",
      "10804 797 10007\n"
     ]
    }
   ],
   "source": [
    "# App Data remove paid apps:\n",
    "appcount = 0\n",
    "app_data3 = [app_data2[0]]\n",
    "for row in app_data2[1:]:\n",
    "    if float(row[4]) == 0:\n",
    "        app_data3.append(row)\n",
    "    else:\n",
    "        appcount += 1\n",
    "        continue\n",
    "\n",
    "# Google Data remove paid apps:\n",
    "googlecount = 0\n",
    "google_data3 = [google_data2[0]]\n",
    "for row in google_data2[1:]:\n",
    "    if row[6] == 'Free':\n",
    "        google_data3.append(row)\n",
    "    else:\n",
    "        googlecount += 1\n",
    "        continue\n",
    "\n",
    "print(len(app_data2), appcount, len(app_data3))\n",
    "print(len(google_data2), googlecount, len(google_data3))\n"
   ]
  },
  {
   "cell_type": "markdown",
   "metadata": {},
   "source": [
    "**Removing Duplicate entries**"
   ]
  },
  {
   "cell_type": "code",
   "execution_count": 26,
   "metadata": {},
   "outputs": [
    {
     "name": "stdout",
     "output_type": "stream",
     "text": [
      "Number of duplicate apps: 1135\n",
      "['Quick PDF Scanner + OCR FREE', 'Box']\n"
     ]
    }
   ],
   "source": [
    "# we will use google_data3 \n",
    "duplicate_g = []\n",
    "unique_g = []\n",
    "\n",
    "for app in google_data3[1:]:\n",
    "    name = app[0]\n",
    "    if name in unique_g:\n",
    "        duplicate_g.append(name)\n",
    "    else:\n",
    "        unique_g.append(name)\n",
    "        \n",
    "print(f\"Number of duplicate apps: {len(duplicate_g)}\")\n",
    "print(duplicate_g[:2])"
   ]
  },
  {
   "cell_type": "code",
   "execution_count": 27,
   "metadata": {},
   "outputs": [
    {
     "name": "stdout",
     "output_type": "stream",
     "text": [
      "223 ['Quick PDF Scanner + OCR FREE', 'BUSINESS', '4.2', '80805', 'Varies with device', '5,000,000+', 'Free', '0', 'Everyone', 'Business', 'February 26, 2018', 'Varies with device', '4.0.3 and up'] \n",
      "\n",
      "230 ['Quick PDF Scanner + OCR FREE', 'BUSINESS', '4.2', '80805', 'Varies with device', '5,000,000+', 'Free', '0', 'Everyone', 'Business', 'February 26, 2018', 'Varies with device', '4.0.3 and up'] \n",
      "\n",
      "284 ['Quick PDF Scanner + OCR FREE', 'BUSINESS', '4.2', '80804', 'Varies with device', '5,000,000+', 'Free', '0', 'Everyone', 'Business', 'February 26, 2018', 'Varies with device', '4.0.3 and up'] \n",
      "\n"
     ]
    }
   ],
   "source": [
    "for i in range(len(google_data3)):\n",
    "    name = google_data3[i][0]\n",
    "    if name == 'Quick PDF Scanner + OCR FREE':\n",
    "        print(i, google_data3[i], \"\\n\")"
   ]
  },
  {
   "cell_type": "code",
   "execution_count": 28,
   "metadata": {},
   "outputs": [],
   "source": [
    "def notHighestReviews(name, dataset):\n",
    "    index = []\n",
    "    for i in range(1, len(dataset)):\n",
    "        app = dataset[i]\n",
    "        if app[0] == name:\n",
    "            index.append((int(app[3]),i))\n",
    "#     print(index)\n",
    "    index.remove(max(index))\n",
    "    return index"
   ]
  },
  {
   "cell_type": "code",
   "execution_count": 29,
   "metadata": {},
   "outputs": [
    {
     "data": {
      "text/plain": [
       "[(80805, 223), (80804, 284)]"
      ]
     },
     "execution_count": 29,
     "metadata": {},
     "output_type": "execute_result"
    }
   ],
   "source": [
    "notHighestReviews(duplicate_g[0], google_data3)"
   ]
  },
  {
   "cell_type": "code",
   "execution_count": 30,
   "metadata": {},
   "outputs": [],
   "source": [
    "google_data4 = [google_data3[0]]\n",
    "\n",
    "# collect all indices to delete/skip\n",
    "skipindex = []\n",
    "for app in duplicate_g:\n",
    "    indexlist = notHighestReviews(app, google_data3)\n",
    "    for index in indexlist:\n",
    "        skipindex.append(index[1])\n",
    "t = set(skipindex)    # unique values\n",
    "skipindex = list(t)\n",
    "\n",
    "count = 0\n",
    "for i in range(1, len(google_data3)):\n",
    "    if i in skipindex:\n",
    "        count += 1\n",
    "        continue\n",
    "    else:\n",
    "        google_data4.append(google_data3[i])"
   ]
  },
  {
   "cell_type": "code",
   "execution_count": 31,
   "metadata": {},
   "outputs": [
    {
     "name": "stdout",
     "output_type": "stream",
     "text": [
      "Number of duplicate apps: 0\n",
      "[]\n"
     ]
    }
   ],
   "source": [
    "# we will use app_data3 \n",
    "duplicate_apps = []\n",
    "unique_apps = []\n",
    "\n",
    "for app in app_data3[1:]:\n",
    "    name = app[0]\n",
    "    if name in unique_apps:\n",
    "        duplicate_apps.append(name)\n",
    "    else:\n",
    "        unique_apps.append(name)\n",
    "        \n",
    "print(f\"Number of duplicate apps: {len(duplicate_apps)}\")\n",
    "print(duplicate_apps[:2])"
   ]
  },
  {
   "cell_type": "markdown",
   "metadata": {},
   "source": [
    "All duplicate entries are deleted and thus concludes the data cleaning. "
   ]
  },
  {
   "cell_type": "code",
   "execution_count": 32,
   "metadata": {},
   "outputs": [
    {
     "name": "stdout",
     "output_type": "stream",
     "text": [
      "['id', 'track_name', 'size_bytes', 'currency', 'price', 'rating_count_tot', 'rating_count_ver', 'user_rating', 'user_rating_ver', 'ver', 'cont_rating', 'prime_genre', 'sup_devices.num', 'ipadSc_urls.num', 'lang.num', 'vpp_lic'] \n",
      " ['App', 'Category', 'Rating', 'Reviews', 'Size', 'Installs', 'Type', 'Price', 'Content Rating', 'Genres', 'Last Updated', 'Current Ver', 'Android Ver']\n",
      "['284882215', 'Facebook', '389879808', 'USD', '0.0', '2974676', '212', '3.5', '3.5', '95.0', '4+', 'Social Networking', '37', '1', '29', '1']\n",
      "['389801252', 'Instagram', '113954816', 'USD', '0.0', '2161558', '1289', '4.5', '4.0', '10.23', '12+', 'Photo & Video', '37', '0', '29', '1']\n",
      "['529479190', 'Clash of Clans', '116476928', 'USD', '0.0', '2130805', '579', '4.5', '4.5', '9.24.12', '9+', 'Games', '38', '5', '18', '1']\n",
      "['420009108', 'Temple Run', '65921024', 'USD', '0.0', '1724546', '3842', '4.5', '4.0', '1.6.2', '9+', 'Games', '40', '5', '1', '1']\n",
      "['284035177', 'Pandora - Music & Radio', '130242560', 'USD', '0.0', '1126879', '3594', '4.0', '4.5', '8.4.1', '12+', 'Music', '37', '4', '1', '1']\n",
      "\n",
      "\n",
      "['Photo Editor & Candy Camera & Grid & ScrapBook', 'ART_AND_DESIGN', '4.1', '159', '19M', '10,000+', 'Free', '0', 'Everyone', 'Art & Design', 'January 7, 2018', '1.0.0', '4.0.3 and up']\n",
      "['U Launcher Lite – FREE Live Cool Themes, Hide Apps', 'ART_AND_DESIGN', '4.7', '87510', '8.7M', '5,000,000+', 'Free', '0', 'Everyone', 'Art & Design', 'August 1, 2018', '1.2.4', '4.0.3 and up']\n",
      "['Sketch - Draw & Paint', 'ART_AND_DESIGN', '4.5', '215644', '25M', '50,000,000+', 'Free', '0', 'Teen', 'Art & Design', 'June 8, 2018', 'Varies with device', '4.2 and up']\n",
      "['Pixel Draw - Number Art Coloring Book', 'ART_AND_DESIGN', '4.3', '967', '2.8M', '100,000+', 'Free', '0', 'Everyone', 'Art & Design;Creativity', 'June 20, 2018', '1.1', '4.4 and up']\n",
      "['Paper flowers instructions', 'ART_AND_DESIGN', '4.4', '167', '5.6M', '50,000+', 'Free', '0', 'Everyone', 'Art & Design', 'March 26, 2017', '1.0', '2.3 and up']\n"
     ]
    }
   ],
   "source": [
    "# Final App Data:\n",
    "appheader = app_data3[0]\n",
    "app_cleaned = app_data3[1:]\n",
    "\n",
    "# Final Google Data:\n",
    "googleheader = google_data4[0]\n",
    "google_cleaned = google_data4[1:]\n",
    "\n",
    "print(appheader, \"\\n\", googleheader)\n",
    "for i in range(5):\n",
    "    print(app_cleaned[i])\n",
    "print(\"\\n\")\n",
    "for i in range(5):\n",
    "    print(google_cleaned[i])"
   ]
  },
  {
   "cell_type": "markdown",
   "metadata": {},
   "source": [
    "google_cleaned"
   ]
  },
  {
   "cell_type": "code",
   "execution_count": 33,
   "metadata": {},
   "outputs": [],
   "source": [
    "# google_cleaned"
   ]
  },
  {
   "cell_type": "markdown",
   "metadata": {},
   "source": [
    "## 2. Exploring Data\n",
    "\n",
    "The validation strategy is to build a minimal Android app and add it to Google Play. Then if it has a good response, it will devlop further. If it is profitable, it is then added to the App Store after devloping an iOS version of it. \n",
    "\n",
    "Because our goal is to find apps with the most users, we will start by analyzing the most common genres of mobile apps in the market. "
   ]
  },
  {
   "cell_type": "code",
   "execution_count": 58,
   "metadata": {},
   "outputs": [
    {
     "data": {
      "text/plain": [
       "{'FAMILY': 1680,\n",
       " 'GAME': 861,\n",
       " 'TOOLS': 750,\n",
       " 'BUSINESS': 408,\n",
       " 'LIFESTYLE': 347,\n",
       " 'PRODUCTIVITY': 346,\n",
       " 'FINANCE': 327,\n",
       " 'MEDICAL': 313,\n",
       " 'SPORTS': 301,\n",
       " 'PERSONALIZATION': 295,\n",
       " 'COMMUNICATION': 287,\n",
       " 'HEALTH_AND_FITNESS': 273,\n",
       " 'PHOTOGRAPHY': 261,\n",
       " 'NEWS_AND_MAGAZINES': 250,\n",
       " 'SOCIAL': 236,\n",
       " 'TRAVEL_AND_LOCAL': 207,\n",
       " 'SHOPPING': 199,\n",
       " 'BOOKS_AND_REFERENCE': 192,\n",
       " 'DATING': 165,\n",
       " 'VIDEO_PLAYERS': 159,\n",
       " 'MAPS_AND_NAVIGATION': 124,\n",
       " 'FOOD_AND_DRINK': 109,\n",
       " 'EDUCATION': 102,\n",
       " 'ENTERTAINMENT': 84,\n",
       " 'LIBRARIES_AND_DEMO': 83,\n",
       " 'AUTO_AND_VEHICLES': 82,\n",
       " 'HOUSE_AND_HOME': 73,\n",
       " 'WEATHER': 71,\n",
       " 'EVENTS': 63,\n",
       " 'PARENTING': 58,\n",
       " 'ART_AND_DESIGN': 57,\n",
       " 'COMICS': 55,\n",
       " 'BEAUTY': 53}"
      ]
     },
     "execution_count": 58,
     "metadata": {},
     "output_type": "execute_result"
    }
   ],
   "source": [
    "# appheader\n",
    "# app_cleaned\n",
    "# googleheader\n",
    "# google_cleaned\n",
    "# Google Data:\n",
    "genresG = {}\n",
    "for row in google_cleaned:\n",
    "    if row[1] in genresG:\n",
    "        genresG[row[1]] += 1\n",
    "    else:\n",
    "        genresG[row[1]] = 1\n",
    "temp = sorted(genresG.items(), key=lambda x:x[1], reverse=True)\n",
    "genres_google = dict(temp)\n",
    "genres_google"
   ]
  },
  {
   "cell_type": "code",
   "execution_count": 59,
   "metadata": {},
   "outputs": [
    {
     "data": {
      "text/plain": [
       "{'Games': 1865,\n",
       " 'Entertainment': 255,\n",
       " 'Photo & Video': 161,\n",
       " 'Education': 118,\n",
       " 'Social Networking': 104,\n",
       " 'Shopping': 82,\n",
       " 'Utilities': 78,\n",
       " 'Sports': 69,\n",
       " 'Music': 65,\n",
       " 'Health & Fitness': 65,\n",
       " 'Productivity': 55,\n",
       " 'Lifestyle': 50,\n",
       " 'News': 43,\n",
       " 'Travel': 38,\n",
       " 'Finance': 35,\n",
       " 'Weather': 28,\n",
       " 'Food & Drink': 28,\n",
       " 'Reference': 17,\n",
       " 'Business': 17,\n",
       " 'Book': 14,\n",
       " 'Navigation': 6,\n",
       " 'Medical': 6,\n",
       " 'Catalogs': 4}"
      ]
     },
     "execution_count": 59,
     "metadata": {},
     "output_type": "execute_result"
    }
   ],
   "source": [
    "# appheader\n",
    "# app_cleaned\n",
    "# googleheader\n",
    "# google_cleaned\n",
    "# Google Data:\n",
    "genresA = {}\n",
    "for row in app_cleaned:\n",
    "    if row[11] in genresA:\n",
    "        genresA[row[11]] += 1\n",
    "    else:\n",
    "        genresA[row[11]] = 1\n",
    "temp = sorted(genresA.items(), key=lambda x:x[1], reverse=True)\n",
    "genres_app = dict(temp)\n",
    "genres_app\n",
    "# genresA"
   ]
  },
  {
   "cell_type": "code",
   "execution_count": 60,
   "metadata": {},
   "outputs": [],
   "source": [
    "def freqPercent(freq_table, totalcount):\n",
    "    newtable = {}\n",
    "    for freq in freq_table:\n",
    "        newtable[freq] = round(freq_table[freq]/totalcount, 4)\n",
    "    return newtable"
   ]
  },
  {
   "cell_type": "code",
   "execution_count": 75,
   "metadata": {},
   "outputs": [],
   "source": [
    "# google:\n",
    "totalG = 0\n",
    "for val in genres_google:\n",
    "    totalG += genres_google[val]\n",
    "genres_freq_google = freqPercent(genres_google, totalG)\n",
    "# app:\n",
    "totalA = 0\n",
    "for val in genres_app:\n",
    "    totalA += genres_app[val]\n",
    "genres_freq_app = freqPercent(genres_app, totalA)"
   ]
  },
  {
   "cell_type": "markdown",
   "metadata": {},
   "source": [
    "From the two ordered frequency tables above, we can see that the first five most popular genres for each are:\n",
    "\n",
    "`\"Family\"`\n",
    "`\"Game\"`\n",
    "`\"Tools\"`\n",
    "`\"Business\"`\n",
    "`\"Lifestyle\"`\n",
    "\n",
    "for Google Play Store Apps and\n",
    "\n",
    "`\"Games\"`\n",
    "`\"Entertainment\"`\n",
    "`\"Photo & Video\"`\n",
    "`\"Education\"`\n",
    "`\"Social Networking\"`\n",
    "\n",
    "for App Store Apps. However, for Android apps, the biggest genres, `\"Family\"` is not even greater than a fifth of the entire mobile apps, whereas `\"Games\"` in App Store apps, are more than half of the entire mobile apps. \n",
    "\n",
    "Since the biggest genre of the App Store apps are `\"Games\"` and the second largest genre in the Google Play Store is also `\"Games\"`, we can suggest the company to build `\"Games\"` app."
   ]
  },
  {
   "cell_type": "code",
   "execution_count": 73,
   "metadata": {},
   "outputs": [
    {
     "name": "stdout",
     "output_type": "stream",
     "text": [
      "Google Genres Percent:\n"
     ]
    },
    {
     "data": {
      "text/plain": [
       "{'FAMILY': 0.1894,\n",
       " 'GAME': 0.0971,\n",
       " 'TOOLS': 0.0845,\n",
       " 'BUSINESS': 0.046,\n",
       " 'LIFESTYLE': 0.0391,\n",
       " 'PRODUCTIVITY': 0.039,\n",
       " 'FINANCE': 0.0369,\n",
       " 'MEDICAL': 0.0353,\n",
       " 'SPORTS': 0.0339,\n",
       " 'PERSONALIZATION': 0.0333,\n",
       " 'COMMUNICATION': 0.0324,\n",
       " 'HEALTH_AND_FITNESS': 0.0308,\n",
       " 'PHOTOGRAPHY': 0.0294,\n",
       " 'NEWS_AND_MAGAZINES': 0.0282,\n",
       " 'SOCIAL': 0.0266,\n",
       " 'TRAVEL_AND_LOCAL': 0.0233,\n",
       " 'SHOPPING': 0.0224,\n",
       " 'BOOKS_AND_REFERENCE': 0.0216,\n",
       " 'DATING': 0.0186,\n",
       " 'VIDEO_PLAYERS': 0.0179,\n",
       " 'MAPS_AND_NAVIGATION': 0.014,\n",
       " 'FOOD_AND_DRINK': 0.0123,\n",
       " 'EDUCATION': 0.0115,\n",
       " 'ENTERTAINMENT': 0.0095,\n",
       " 'LIBRARIES_AND_DEMO': 0.0094,\n",
       " 'AUTO_AND_VEHICLES': 0.0092,\n",
       " 'HOUSE_AND_HOME': 0.0082,\n",
       " 'WEATHER': 0.008,\n",
       " 'EVENTS': 0.0071,\n",
       " 'PARENTING': 0.0065,\n",
       " 'ART_AND_DESIGN': 0.0064,\n",
       " 'COMICS': 0.0062,\n",
       " 'BEAUTY': 0.006}"
      ]
     },
     "execution_count": 73,
     "metadata": {},
     "output_type": "execute_result"
    }
   ],
   "source": [
    "print(\"Google Genres Percent:\")\n",
    "genres_freq_google"
   ]
  },
  {
   "cell_type": "code",
   "execution_count": 74,
   "metadata": {},
   "outputs": [
    {
     "name": "stdout",
     "output_type": "stream",
     "text": [
      "App Genres Percent:\n"
     ]
    },
    {
     "data": {
      "text/plain": [
       "{'Games': 0.5823,\n",
       " 'Entertainment': 0.0796,\n",
       " 'Photo & Video': 0.0503,\n",
       " 'Education': 0.0368,\n",
       " 'Social Networking': 0.0325,\n",
       " 'Shopping': 0.0256,\n",
       " 'Utilities': 0.0244,\n",
       " 'Sports': 0.0215,\n",
       " 'Music': 0.0203,\n",
       " 'Health & Fitness': 0.0203,\n",
       " 'Productivity': 0.0172,\n",
       " 'Lifestyle': 0.0156,\n",
       " 'News': 0.0134,\n",
       " 'Travel': 0.0119,\n",
       " 'Finance': 0.0109,\n",
       " 'Weather': 0.0087,\n",
       " 'Food & Drink': 0.0087,\n",
       " 'Reference': 0.0053,\n",
       " 'Business': 0.0053,\n",
       " 'Book': 0.0044,\n",
       " 'Navigation': 0.0019,\n",
       " 'Medical': 0.0019,\n",
       " 'Catalogs': 0.0012}"
      ]
     },
     "execution_count": 74,
     "metadata": {},
     "output_type": "execute_result"
    }
   ],
   "source": [
    "print(\"App Genres Percent:\")\n",
    "genres_freq_app"
   ]
  },
  {
   "cell_type": "markdown",
   "metadata": {},
   "source": [
    "AppStore Dataset has a feature named `\"rating_count_tot\"` which shows the total number of reviews of the mobile app. This shows how popular an app can be. \n",
    "\n",
    "For each genre in the App data, we will calculate the average number of reviews."
   ]
  },
  {
   "cell_type": "code",
   "execution_count": 107,
   "metadata": {},
   "outputs": [
    {
     "data": {
      "text/plain": [
       "{'Navigation': 86090.333,\n",
       " 'Reference': 79350.471,\n",
       " 'Social Networking': 72916.548,\n",
       " 'Music': 58205.031,\n",
       " 'Weather': 52279.893,\n",
       " 'Book': 39758.5,\n",
       " 'Finance': 32367.029,\n",
       " 'Food & Drink': 30953.464,\n",
       " 'Travel': 29721.605,\n",
       " 'Photo & Video': 28264.888,\n",
       " 'Shopping': 27572.024,\n",
       " 'Health & Fitness': 23298.015,\n",
       " 'Sports': 23008.899,\n",
       " 'Games': 22898.639,\n",
       " 'Productivity': 21402.8,\n",
       " 'News': 21248.023,\n",
       " 'Utilities': 19408.987,\n",
       " 'Lifestyle': 16815.48,\n",
       " 'Entertainment': 13974.208,\n",
       " 'Business': 7491.118,\n",
       " 'Education': 7003.983,\n",
       " 'Catalogs': 4004.0,\n",
       " 'Medical': 612.0}"
      ]
     },
     "execution_count": 107,
     "metadata": {},
     "output_type": "execute_result"
    }
   ],
   "source": [
    "# genres_app\n",
    "avgRatingCount = {}\n",
    "for row in app_cleaned:\n",
    "    if row[11] in avgRatingCount:\n",
    "        avgRatingCount[row[11]] += float(row[5])\n",
    "    else:\n",
    "        avgRatingCount[row[11]] = float(row[5])\n",
    "for genre in avgRatingCount:\n",
    "    appcount = genres_app[genre]\n",
    "    avgRatingCount[genre] = round(avgRatingCount[genre]/appcount, 3)\n",
    "avgRatingCount = dict(sorted(avgRatingCount.items(), \n",
    "                             key=lambda x:x[1], reverse = True))\n",
    "avgRatingCount"
   ]
  },
  {
   "cell_type": "markdown",
   "metadata": {},
   "source": [
    "For Google Play Store, instead of total number of reviews, we will use the number of `\"Installs\"` to calculate the average installs for the genre."
   ]
  },
  {
   "cell_type": "code",
   "execution_count": 105,
   "metadata": {},
   "outputs": [
    {
     "name": "stdout",
     "output_type": "stream",
     "text": [
      "Average Install Count:\n"
     ]
    },
    {
     "data": {
      "text/plain": [
       "{'COMMUNICATION': 38456119.167,\n",
       " 'VIDEO_PLAYERS': 24727872.453,\n",
       " 'SOCIAL': 23253652.127,\n",
       " 'PHOTOGRAPHY': 17840110.402,\n",
       " 'PRODUCTIVITY': 16738957.555,\n",
       " 'GAME': 15594505.749,\n",
       " 'TRAVEL_AND_LOCAL': 13984077.71,\n",
       " 'ENTERTAINMENT': 11719761.905,\n",
       " 'TOOLS': 10801391.299,\n",
       " 'NEWS_AND_MAGAZINES': 9472829.04,\n",
       " 'BOOKS_AND_REFERENCE': 8676746.146,\n",
       " 'SHOPPING': 7036877.312,\n",
       " 'PERSONALIZATION': 5183850.807,\n",
       " 'WEATHER': 5074486.197,\n",
       " 'HEALTH_AND_FITNESS': 4188821.985,\n",
       " 'MAPS_AND_NAVIGATION': 4057744.194,\n",
       " 'FAMILY': 3696967.673,\n",
       " 'SPORTS': 3638640.143,\n",
       " 'ART_AND_DESIGN': 1986335.088,\n",
       " 'FOOD_AND_DRINK': 1942556.431,\n",
       " 'EDUCATION': 1841666.667,\n",
       " 'BUSINESS': 1708215.907,\n",
       " 'LIFESTYLE': 1433960.89,\n",
       " 'FINANCE': 1361355.144,\n",
       " 'HOUSE_AND_HOME': 1331540.562,\n",
       " 'DATING': 854028.83,\n",
       " 'COMICS': 817657.273,\n",
       " 'AUTO_AND_VEHICLES': 647317.817,\n",
       " 'LIBRARIES_AND_DEMO': 638503.735,\n",
       " 'PARENTING': 542603.621,\n",
       " 'BEAUTY': 513151.887,\n",
       " 'EVENTS': 253542.222,\n",
       " 'MEDICAL': 120550.62}"
      ]
     },
     "execution_count": 105,
     "metadata": {},
     "output_type": "execute_result"
    }
   ],
   "source": [
    "avgInstallCount = {}\n",
    "for row in google_cleaned:\n",
    "    n = row[5]\n",
    "    n = n.replace('+','')\n",
    "    n = n.replace(',','')\n",
    "    if row[1] in avgInstallCount:\n",
    "        avgInstallCount[row[1]] += float(n)\n",
    "    else:\n",
    "        avgInstallCount[row[1]] = float(n)\n",
    "for genre in avgInstallCount:\n",
    "    appcount = genres_google[genre]\n",
    "    avgInstallCount[genre] = round(avgInstallCount[genre]/appcount,3)\n",
    "avgInstallCount = dict(sorted(avgInstallCount.items(), \n",
    "                             key=lambda x:x[1], reverse = True))\n",
    "print(\"Average Install Count:\")\n",
    "avgInstallCount"
   ]
  },
  {
   "cell_type": "markdown",
   "metadata": {},
   "source": [
    "From the average rating count for the App Store and the average install count for Google Play Store, we can see that only considering for number of apps in the genre does not mean much when it comes to analyzing which mobile app is most popular for the users in each market because the top counts does not match the top counts for the number of apps in the genres.\n",
    "\n",
    "## Conclusion\n",
    "\n",
    "**Google Play Store:**\n",
    "\n",
    "For Google Play Store, we calculated that the top five genres with the most number of apps were: \n",
    "\n",
    "`'FAMILY'`\n",
    " `'GAME'`\n",
    " `'TOOLS'`\n",
    " `'BUSINESS'`\n",
    " `'LIFESTYLE'`.\n",
    "\n",
    "However, after calculating the average installment count for each genres, the top five genres with the highest average installment for each genres is:\n",
    "\n",
    "`'COMMUNICATION'`: 38,456,119.167\n",
    "\n",
    " `'VIDEO_PLAYERS'`: 24,727,872.453\n",
    " \n",
    " `'SOCIAL'`: 23,253,652.127\n",
    " \n",
    " `'PHOTOGRAPHY'`: 17,840,110.402\n",
    " \n",
    " `'PRODUCTIVITY'`16,738,957.555. \n",
    "\n",
    "**App Store:**\n",
    "\n",
    "For App Store, we calculated that the top five genres with the most number of apps were: \n",
    "\n",
    "`'Games'`\n",
    " `'Entertainment'`\n",
    " `'Photo & Video'`\n",
    " `'Education'`\n",
    " `'Social Networking'`.\n",
    " \n",
    "However, according to the results of the calculated average number of reviews, the top five genres with the highest average number of reviews for each genres is: \n",
    "\n",
    "`'Navigation'`: 86090.333\n",
    "\n",
    " `'Reference'`: 79350.471\n",
    "\n",
    " `'Social Networking'`: 72916.548\n",
    " \n",
    " `'Music'`: 58205.031\n",
    " \n",
    " `'Weather'`: 52279.893.\n",
    " \n",
    "After these calculations, we can conclude that for each market, the genre that is in the top five genres is **\"Social Networking\"** genre. "
   ]
  },
  {
   "cell_type": "code",
   "execution_count": null,
   "metadata": {},
   "outputs": [],
   "source": []
  }
 ],
 "metadata": {
  "kernelspec": {
   "display_name": "Python 3",
   "language": "python",
   "name": "python3"
  },
  "language_info": {
   "codemirror_mode": {
    "name": "ipython",
    "version": 3
   },
   "file_extension": ".py",
   "mimetype": "text/x-python",
   "name": "python",
   "nbconvert_exporter": "python",
   "pygments_lexer": "ipython3",
   "version": "3.8.2"
  }
 },
 "nbformat": 4,
 "nbformat_minor": 2
}
